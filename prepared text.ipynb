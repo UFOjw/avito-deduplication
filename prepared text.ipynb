{
 "cells": [
  {
   "cell_type": "markdown",
   "id": "218898a1-d4a8-4930-8920-7e2287b7ec45",
   "metadata": {},
   "source": [
    "# Преобразование текста"
   ]
  },
  {
   "cell_type": "code",
   "execution_count": null,
   "id": "7047ac45-f664-42f1-aa1d-ffe46d6931f0",
   "metadata": {},
   "outputs": [],
   "source": [
    "import pandas as pd\n",
    "import os\n",
    "import numpy as np\n",
    "import json\n",
    "import zipfile\n",
    "import glob\n",
    "import os\n",
    "from tqdm import tqdm\n",
    "import re\n",
    "import torch\n",
    "from transformers import (\n",
    "    AutoTokenizer,\n",
    ")\n",
    "from collections import defaultdict"
   ]
  },
  {
   "cell_type": "code",
   "execution_count": null,
   "id": "13923709-e351-4eb2-a198-a209046fb6a8",
   "metadata": {},
   "outputs": [],
   "source": [
    "os.chdir(\"avitotech_data\\\\avitotech_data\")"
   ]
  },
  {
   "cell_type": "code",
   "execution_count": null,
   "id": "b99a40f7-11f8-4baf-b1d0-3270d55d258a",
   "metadata": {},
   "outputs": [],
   "source": [
    "df_train_1 = pd.read_parquet(\"train_part_0001.snappy.parquet\")\n",
    "df_train_2 = pd.read_parquet(\"train_part_0002.snappy.parquet\")\n",
    "df_train_3 = pd.read_parquet(\"train_part_0003.snappy.parquet\")\n",
    "df_train_4 = pd.read_parquet(\"train_part_0004.snappy.parquet\")\n",
    "\n",
    "df_test_1 = pd.read_parquet(\"test_part_0001.snappy.parquet\")\n",
    "df_test_2 = pd.read_parquet(\"test_part_0002.snappy.parquet\")"
   ]
  },
  {
   "cell_type": "code",
   "execution_count": null,
   "id": "f93c35ac-012c-4648-bd34-babb59a8d528",
   "metadata": {},
   "outputs": [],
   "source": [
    "df_train = pd.concat([df_train_1, df_train_2, df_train_3, df_train_4])\n",
    "\n",
    "df_test = pd.concat([df_test_1, df_test_2])"
   ]
  },
  {
   "cell_type": "code",
   "execution_count": null,
   "id": "34c289c4-e71b-4f3f-8e10-f50909759b11",
   "metadata": {},
   "outputs": [],
   "source": [
    "df_train.head(3)"
   ]
  },
  {
   "cell_type": "code",
   "execution_count": null,
   "id": "a5f13a6d-53be-40b9-88cc-c90a1b5e7c8d",
   "metadata": {},
   "outputs": [],
   "source": [
    "df_train.columns"
   ]
  },
  {
   "cell_type": "code",
   "execution_count": null,
   "id": "5381147c-c2e6-4bb4-a507-48d7fa3e3428",
   "metadata": {},
   "outputs": [],
   "source": [
    "def clean_text(text: str) -> str:\n",
    "    if not isinstance(text, str):\n",
    "        return ''\n",
    "    text = text.lower()\n",
    "    text = re.sub(r'<[^>]+>', '', text)        # удаление HTML\n",
    "    text = re.sub(r'[^\\w\\s]', ' ', text)       # удаление пунктуации\n",
    "    text = re.sub(r'\\s+', ' ', text)           # удаление лишних пробелов\n",
    "    return text.strip()"
   ]
  },
  {
   "cell_type": "code",
   "execution_count": null,
   "id": "8ec93007-e762-47ca-b43e-fddd146a1aa8",
   "metadata": {},
   "outputs": [],
   "source": [
    "def clean_product_data(df: pd.DataFrame) -> pd.DataFrame:\n",
    "    df = df.copy()\n",
    "    columns_to_clean = ['base_title',\n",
    "       'cand_title', 'base_description', 'cand_description',\n",
    "       'base_category_name', 'cand_category_name', 'base_subcategory_name',\n",
    "       'cand_subcategory_name', 'base_param1', 'cand_param1', 'base_param2',\n",
    "       'cand_param2']\n",
    "\n",
    "    for col in tqdm(columns_to_clean):\n",
    "        if col in df.columns:\n",
    "            df[col] = df[col].apply(clean_text)\n",
    "\n",
    "    return df"
   ]
  },
  {
   "cell_type": "code",
   "execution_count": null,
   "id": "15f8d951-2a3c-40fa-9a0d-ce7bce5447fc",
   "metadata": {},
   "outputs": [],
   "source": [
    "df_train = clean_product_data(df_train)\n",
    "df_test = clean_product_data(df_test)"
   ]
  },
  {
   "cell_type": "code",
   "execution_count": null,
   "id": "d148cb14-4a7c-458e-8615-01848d7a4a18",
   "metadata": {},
   "outputs": [],
   "source": [
    "def trim_to_tokens(text, max_tokens):\n",
    "    tokens = tokenizer.tokenize(text)\n",
    "    return tokenizer.convert_tokens_to_string(tokens[:max_tokens]).strip()\n",
    "\n",
    "def concat_row(row):\n",
    "    # Товар\n",
    "    title = trim_to_tokens(str(row.iloc[0]) if pd.notnull(row.iloc[0]) else \"\", 64)\n",
    "    \n",
    "    # Описание\n",
    "    description = trim_to_tokens(str(row.iloc[1]) if pd.notnull(row.iloc[1]) else \"\", 128)\n",
    "\n",
    "    # Категория (3-я и 4-я колонки)\n",
    "    cat_parts = [str(val) for val in [row.iloc[2], row.iloc[3]] if pd.notnull(val)]\n",
    "    cat_text = \", \".join(cat_parts) if cat_parts else \"нет\"\n",
    "    cat_text = trim_to_tokens(cat_text, 128)\n",
    "\n",
    "    # Параметры (5-я и 6-я колонки)\n",
    "    param_parts = [str(val) for val in [row.iloc[4], row.iloc[5]] if pd.notnull(val)]\n",
    "    param_text = \", \".join(param_parts) if param_parts else \"нет\"\n",
    "    param_text = trim_to_tokens(param_text, 128)\n",
    "\n",
    "    # Собираем итоговую строку\n",
    "    result = (\n",
    "        f\"товар: {title}.\"\n",
    "        f\" описание: {description}.\"\n",
    "        f\" категория: {cat_text}.\"\n",
    "        f\" параметры: {param_text}.\"\n",
    "    )\n",
    "    return result\n"
   ]
  },
  {
   "cell_type": "code",
   "execution_count": null,
   "id": "543b15e8-3fd8-498a-9eb0-e78c54b21e59",
   "metadata": {},
   "outputs": [],
   "source": [
    "df_train = df_train[['base_item_id', 'cand_item_id', 'base_title', 'cand_title',\n",
    "       'base_description', 'cand_description', 'base_category_name',\n",
    "       'cand_category_name', 'base_subcategory_name', 'cand_subcategory_name',\n",
    "       'base_param1', 'cand_param1', 'base_param2', 'cand_param2']]"
   ]
  },
  {
   "cell_type": "code",
   "execution_count": null,
   "id": "9863a93b-72ed-491d-8819-30258219bd96",
   "metadata": {},
   "outputs": [],
   "source": [
    "df_train_text_base = df_train[['base_title', 'base_description', 'base_category_name', 'base_subcategory_name',\n",
    "                               'base_param1', 'base_param2']].copy()\n",
    "\n",
    "df_train_text_cand = df_train[['cand_title', 'cand_description', 'cand_category_name', 'cand_subcategory_name',\n",
    "                               'cand_param1', 'cand_param2']].copy()\n",
    "\n",
    "df_train_text_base['base_item_id'] = df_train['base_item_id'].copy()\n",
    "df_train_text_cand['cand_item_id'] = df_train['cand_item_id'].copy()"
   ]
  },
  {
   "cell_type": "code",
   "execution_count": null,
   "id": "e5d7539c-0dbf-4642-86d2-0549e75ab5f5",
   "metadata": {},
   "outputs": [],
   "source": [
    "df_test = df_test[['base_item_id', 'cand_item_id', 'base_title', 'cand_title',\n",
    "       'base_description', 'cand_description', 'base_category_name',\n",
    "       'cand_category_name', 'base_subcategory_name', 'cand_subcategory_name',\n",
    "       'base_param1', 'cand_param1', 'base_param2', 'cand_param2']]"
   ]
  },
  {
   "cell_type": "code",
   "execution_count": null,
   "id": "4260c6bf-61e3-442e-84ac-70fbf149d4c8",
   "metadata": {},
   "outputs": [],
   "source": [
    "df_test_text_base = df_test[['base_title', 'base_description', 'base_category_name', 'base_subcategory_name',\n",
    "                               'base_param1', 'base_param2']].copy()\n",
    "\n",
    "df_test_text_cand = df_test[['cand_title', 'cand_description', 'cand_category_name', 'cand_subcategory_name',\n",
    "                               'cand_param1', 'cand_param2']].copy()\n",
    "\n",
    "df_test_text_base['base_item_id'] = df_test['base_item_id'].copy()\n",
    "df_test_text_cand['cand_item_id'] = df_test['cand_item_id'].copy()"
   ]
  },
  {
   "cell_type": "code",
   "execution_count": null,
   "id": "2f82a584-8a59-4634-b99c-7fd22b7f25e6",
   "metadata": {},
   "outputs": [],
   "source": [
    "device = torch.device(\"cuda\" if torch.cuda.is_available() else \"cpu\")\n",
    "model_name = \"cointegrated/rubert-tiny2\"\n",
    "tokenizer = AutoTokenizer.from_pretrained(model_name)"
   ]
  },
  {
   "cell_type": "code",
   "execution_count": null,
   "id": "dfbb69c2-5beb-4a2d-b93f-7385f34db5e5",
   "metadata": {},
   "outputs": [],
   "source": [
    "tqdm.pandas()\n",
    "df_train_text_base[\"base_all_together\"] = df_train_text_base.progress_apply(concat_row, axis=1)\n",
    "df_train_text_cand[\"base_all_together\"] = df_train_text_cand.progress_apply(concat_row, axis=1)"
   ]
  },
  {
   "cell_type": "code",
   "execution_count": null,
   "id": "eed36202-686f-4331-bf67-00287aa7ede1",
   "metadata": {},
   "outputs": [],
   "source": [
    "tqdm.pandas()\n",
    "df_test_text_base[\"base_all_together\"] = df_test_text_base.progress_apply(concat_row, axis=1)\n",
    "df_test_text_cand[\"base_all_together\"] = df_test_text_cand.progress_apply(concat_row, axis=1)"
   ]
  },
  {
   "cell_type": "code",
   "execution_count": null,
   "id": "b9ed7251-e3d2-449b-b92f-b21e2c046f6d",
   "metadata": {},
   "outputs": [],
   "source": [
    "df_cards_train = pd.concat([\n",
    "    df_train_text_base[['base_item_id', 'base_all_together']].rename(columns={'base_item_id': 'item_id'}),\n",
    "    df_train_text_cand[['cand_item_id', 'base_all_together']].rename(columns={'cand_item_id': 'item_id'})\n",
    "], ignore_index=True)\n",
    "\n",
    "df_cards_test = pd.concat([\n",
    "    df_test_text_base[['base_item_id', 'base_all_together']].rename(columns={'base_item_id': 'item_id'}),\n",
    "    df_test_text_cand[['cand_item_id', 'base_all_together']].rename(columns={'cand_item_id': 'item_id'})\n",
    "], ignore_index=True)"
   ]
  },
  {
   "cell_type": "code",
   "execution_count": null,
   "id": "58e2fa86-847a-4efb-a5a1-c41905b4184b",
   "metadata": {},
   "outputs": [],
   "source": [
    "df_cards_train = df_cards_train.rename(columns={'base_all_together': 'text'})\n",
    "df_cards_test = df_cards_test.rename(columns={'base_all_together': 'text'})"
   ]
  },
  {
   "cell_type": "code",
   "execution_count": null,
   "id": "6e3df5e4-1c5b-4070-a453-3fcb94eb7056",
   "metadata": {},
   "outputs": [],
   "source": [
    "cards_train = defaultdict(str)\n",
    "for idx, item_id in enumerate(df_cards_train['item_id']):\n",
    "    if item_id not in cards_train:\n",
    "        cards_train[item_id] = df_cards_train['text'][idx]\n",
    "\n",
    "cards_test = defaultdict(str)\n",
    "for idx, item_id in enumerate(df_cards_test['item_id']):\n",
    "    if item_id not in cards_test:\n",
    "        cards_test[item_id] = df_cards_test['text'][idx]"
   ]
  },
  {
   "cell_type": "code",
   "execution_count": null,
   "id": "a1ca1275-df5d-4b25-af20-eda8ab9920e3",
   "metadata": {},
   "outputs": [],
   "source": [
    "with open(\"cards_train.json\", \"w\") as file:\n",
    "    json.dump(cards_train, file)\n",
    "\n",
    "with open(\"cards_test.json\", \"w\") as file:\n",
    "    json.dump(cards_test, file)"
   ]
  },
  {
   "cell_type": "code",
   "execution_count": null,
   "id": "bb53c1ce-f5fa-4d89-8807-a7f523607b03",
   "metadata": {},
   "outputs": [],
   "source": []
  }
 ],
 "metadata": {
  "kernelspec": {
   "display_name": "Avito",
   "language": "python",
   "name": "avito"
  },
  "language_info": {
   "codemirror_mode": {
    "name": "ipython",
    "version": 3
   },
   "file_extension": ".py",
   "mimetype": "text/x-python",
   "name": "python",
   "nbconvert_exporter": "python",
   "pygments_lexer": "ipython3",
   "version": "3.13.2"
  }
 },
 "nbformat": 4,
 "nbformat_minor": 5
}
