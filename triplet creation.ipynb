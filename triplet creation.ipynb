{
 "cells": [
  {
   "cell_type": "markdown",
   "id": "f351ba68-71c3-482e-8cff-5d0a56e83fb7",
   "metadata": {},
   "source": [
    "# Trplet creation"
   ]
  },
  {
   "cell_type": "code",
   "execution_count": null,
   "id": "9067210c-869f-4e2b-b926-73c3f4e9af33",
   "metadata": {},
   "outputs": [],
   "source": [
    "import pandas as pd\n",
    "import os\n",
    "from collections import defaultdict, deque\n",
    "import numpy as np\n",
    "from tqdm import tqdm\n",
    "import copy"
   ]
  },
  {
   "cell_type": "code",
   "execution_count": null,
   "id": "e998fc10-2192-4795-a56d-c7e19a76f7fc",
   "metadata": {},
   "outputs": [],
   "source": [
    "PATH = 'avitotech_data\\\\avitotech_data'\n",
    "os.chdir(PATH)"
   ]
  },
  {
   "cell_type": "code",
   "execution_count": null,
   "id": "142dabea-f410-4e1e-80d1-91284a089deb",
   "metadata": {},
   "outputs": [],
   "source": [
    "df_train_1 = pd.read_parquet(\"train_part_0001.snappy.parquet\")\n",
    "df_train_2 = pd.read_parquet(\"train_part_0002.snappy.parquet\")\n",
    "df_train_3 = pd.read_parquet(\"train_part_0003.snappy.parquet\")\n",
    "df_train_4 = pd.read_parquet(\"train_part_0004.snappy.parquet\")"
   ]
  },
  {
   "cell_type": "code",
   "execution_count": null,
   "id": "1686d9be-17d4-4ae9-9465-bb784d412374",
   "metadata": {},
   "outputs": [],
   "source": [
    "df_train_1 = df_train_1[['base_item_id', 'cand_item_id', 'is_double']]\n",
    "df_train_2 = df_train_2[['base_item_id', 'cand_item_id', 'is_double']]\n",
    "df_train_3 = df_train_3[['base_item_id', 'cand_item_id', 'is_double']]\n",
    "df_train_4 = df_train_4[['base_item_id', 'cand_item_id', 'is_double']]"
   ]
  },
  {
   "cell_type": "code",
   "execution_count": null,
   "id": "bbf15ba5-e4bd-4730-8e8a-13943894e20c",
   "metadata": {},
   "outputs": [],
   "source": [
    "df_train = pd.concat([df_train_1, df_train_2, df_train_3, df_train_4])"
   ]
  },
  {
   "cell_type": "markdown",
   "id": "0c7f724d-3b9b-4d3c-b392-e154d074625b",
   "metadata": {},
   "source": [
    "## Mutual interaction"
   ]
  },
  {
   "cell_type": "code",
   "execution_count": null,
   "id": "5a829465-ff03-4384-a1b9-e66b47d8ad0a",
   "metadata": {},
   "outputs": [],
   "source": [
    "def build_pair_dict(df):\n",
    "    ids = defaultdict(lambda: defaultdict(list))\n",
    "\n",
    "    for base, cand, is_double in df.values:\n",
    "        if cand not in ids[base]['pair']:\n",
    "            ids[base]['pair'].append(cand)\n",
    "            ids[base]['is_double'].append(is_double)\n",
    "\n",
    "        if base not in ids[cand]['pair']:\n",
    "            ids[cand]['pair'].append(base)\n",
    "            ids[cand]['is_double'].append(is_double)\n",
    "\n",
    "    return ids"
   ]
  },
  {
   "cell_type": "code",
   "execution_count": null,
   "id": "a286f3eb-d4fc-4f14-a79e-98eaefc99cee",
   "metadata": {},
   "outputs": [],
   "source": [
    "ids = build_pair_dict(df_train)"
   ]
  },
  {
   "cell_type": "code",
   "execution_count": null,
   "id": "9267c925-14da-47fa-b696-9e60ed982428",
   "metadata": {},
   "outputs": [],
   "source": [
    "def propagate_transitive_doubles(ids):\n",
    "    for item in tqdm(ids):\n",
    "        visited = set()\n",
    "        queue = deque()\n",
    "        known_doubles = set()\n",
    "\n",
    "        # Ищем всех прямых и косвенных дублей (is_double == 1)\n",
    "        queue.append(item)\n",
    "        while queue:\n",
    "            current = queue.popleft()\n",
    "            if current in visited:\n",
    "                continue\n",
    "            visited.add(current)\n",
    "            for idx, neighbor in enumerate(ids[current]['pair']):\n",
    "                if ids[current]['is_double'][idx] == 1 and neighbor not in visited:\n",
    "                    known_doubles.add(neighbor)\n",
    "                    queue.append(neighbor)\n",
    "\n",
    "        # Для каждого дубля найдём его недубли и добавим как is_double == 0\n",
    "        for double_id in known_doubles:\n",
    "            for idx, neighbor in enumerate(ids[double_id]['pair']):\n",
    "                is_dbl = ids[double_id]['is_double'][idx]\n",
    "                if is_dbl == 0 and neighbor != item:\n",
    "                    if neighbor not in ids[item]['pair']:\n",
    "                        ids[item]['pair'].append(neighbor)\n",
    "                        ids[item]['is_double'].append(0)\n",
    "                    if item not in ids[neighbor]['pair']:\n",
    "                        ids[neighbor]['pair'].append(item)\n",
    "                        ids[neighbor]['is_double'].append(0)\n",
    "\n",
    "        # Добавим недостающие связи между дублями\n",
    "        for double_id in known_doubles:\n",
    "            if double_id not in ids[item]['pair']:\n",
    "                ids[item]['pair'].append(double_id)\n",
    "                ids[item]['is_double'].append(1)\n",
    "            if item not in ids[double_id]['pair']:\n",
    "                ids[double_id]['pair'].append(item)\n",
    "                ids[double_id]['is_double'].append(1)\n",
    "\n",
    "    return ids\n"
   ]
  },
  {
   "cell_type": "code",
   "execution_count": null,
   "id": "6d738d3c-f819-441a-aaae-d5a2ddc01432",
   "metadata": {},
   "outputs": [],
   "source": [
    "ids = propagate_transitive_doubles(ids)"
   ]
  },
  {
   "cell_type": "markdown",
   "id": "d1eb9bda-1590-4736-add2-18fd8f60446b",
   "metadata": {},
   "source": [
    "## Id's group"
   ]
  },
  {
   "cell_type": "code",
   "execution_count": null,
   "id": "65477af2-ec63-44f3-8540-b16f2ecb91ce",
   "metadata": {},
   "outputs": [],
   "source": [
    "df_train_1 = pd.read_parquet(\"train_part_0001.snappy.parquet\")\n",
    "df_train_2 = pd.read_parquet(\"train_part_0002.snappy.parquet\")\n",
    "df_train_3 = pd.read_parquet(\"train_part_0003.snappy.parquet\")\n",
    "df_train_4 = pd.read_parquet(\"train_part_0004.snappy.parquet\")\n",
    "\n",
    "df_train = pd.concat([df_train_1, df_train_2, df_train_3, df_train_4])"
   ]
  },
  {
   "cell_type": "code",
   "execution_count": null,
   "id": "7dbdf96e-31fe-47e8-9c38-a571b49a6bc4",
   "metadata": {},
   "outputs": [],
   "source": [
    "base_map = defaultdict(set)\n",
    "cand_map = defaultdict(set)\n",
    "\n",
    "for row in df_train[['base_item_id', 'cand_item_id', 'group_id']].itertuples(index=False):\n",
    "    base_map[row.base_item_id].add(row.group_id)\n",
    "    cand_map[row.cand_item_id].add(row.group_id)"
   ]
  },
  {
   "cell_type": "markdown",
   "id": "fd100b2c-47a2-4082-9049-8ff3c48bf8c8",
   "metadata": {},
   "source": [
    "## Add ids"
   ]
  },
  {
   "cell_type": "code",
   "execution_count": null,
   "id": "8d567ce2-92fc-4f24-b16d-850a32dcfb60",
   "metadata": {},
   "outputs": [],
   "source": [
    "for key in tqdm(ids):\n",
    "    groups = base_map.get(key, set()) | cand_map.get(key, set())\n",
    "    ids[key]['groups'] = list(groups)"
   ]
  },
  {
   "cell_type": "markdown",
   "id": "8a656ea2-ee40-480e-b2c2-2be39a55f658",
   "metadata": {},
   "source": [
    "## Only doubles remain"
   ]
  },
  {
   "cell_type": "code",
   "execution_count": null,
   "id": "7b75f44d-65e2-4eea-baf4-9ab03eb7f4ab",
   "metadata": {},
   "outputs": [],
   "source": [
    "ids_neg = set()\n",
    "ids_trunc = defaultdict(lambda: defaultdict(list))\n",
    "\n",
    "for yan_id, data in tqdm(ids.items()):\n",
    "    if np.sum(data['is_double']) > 0:\n",
    "        ids_trunc[yan_id] = copy.deepcopy(data)\n",
    "    else:\n",
    "        ids_neg.add(yan_id)"
   ]
  },
  {
   "cell_type": "markdown",
   "id": "51ccf28d-ae9a-4367-89a5-7f1dbf17de49",
   "metadata": {},
   "source": [
    "## Not duplicates among duplicates"
   ]
  },
  {
   "cell_type": "code",
   "execution_count": null,
   "id": "9da3279a-7132-462e-8582-4b76eeb56dd4",
   "metadata": {},
   "outputs": [],
   "source": [
    "used_list = set()\n",
    "\n",
    "for yan_id, data in tqdm(ids.items()):\n",
    "    if np.sum(data['is_double']) > 0:\n",
    "        for inner_ids in data['pair']:\n",
    "            if inner_ids in ids_neg:\n",
    "                used_list.add(inner_ids)"
   ]
  },
  {
   "cell_type": "code",
   "execution_count": null,
   "id": "35fa6460-09b0-4c21-9bcd-bf2cfba322b8",
   "metadata": {},
   "outputs": [],
   "source": [
    "ids_neg_trunc = ids_neg - used_list # not used ids"
   ]
  },
  {
   "cell_type": "code",
   "execution_count": null,
   "id": "16eba88a-cb31-443a-b4ae-b3c74a62a4d1",
   "metadata": {},
   "outputs": [],
   "source": [
    "print(f\"Всего не использованных ID: {len(ids_neg_trunc)}\")\n",
    "print(f\"Негативов на ID: {np.ceil(len(ids_neg_trunc) / len(ids_trunc))}\")"
   ]
  },
  {
   "cell_type": "markdown",
   "id": "9e4f8c30-043e-463a-9ed8-d1c4ffdcd85b",
   "metadata": {},
   "source": [
    "## Miximum groups per id"
   ]
  },
  {
   "cell_type": "code",
   "execution_count": null,
   "id": "eb906450-0f95-492e-9e30-55707d5d5ae8",
   "metadata": {},
   "outputs": [],
   "source": [
    "max_gp = 0\n",
    "for key in ids:\n",
    "    if max_gp < len(ids[key]['groups']):\n",
    "        max_gp = len(ids[key]['groups'])\n",
    "\n",
    "print(max_gp)"
   ]
  },
  {
   "cell_type": "code",
   "execution_count": null,
   "id": "bc634e03-049b-4126-9e42-a8a5b4ec4440",
   "metadata": {},
   "outputs": [],
   "source": [
    "def augment_with_negatives_dynamic(ids_trunc, ids, ids_neg_trunc, n):\n",
    "    used_candidates = set()\n",
    "    cnt_added  = 0\n",
    "    copy_ids_neg_trunc = list(ids_neg_trunc)\n",
    "    \n",
    "    for yan_id, data in tqdm(ids_trunc.items()):\n",
    "        current_groups = set(data.get('groups', []))\n",
    "\n",
    "        num_positives = sum(1 for val in data.get('is_double', []) if val == 1)\n",
    "        num_negatives = sum(1 for val in data.get('is_double', []) if val == 0)\n",
    "\n",
    "        target_negatives = n * num_positives\n",
    "        remaining_to_add = max(target_negatives - num_negatives, 0)\n",
    "\n",
    "        if remaining_to_add == 0:\n",
    "            continue\n",
    "\n",
    "        added = 0\n",
    "\n",
    "        if cnt_added % 5000 == 0:\n",
    "            copy_ids_neg_trunc = list(ids_neg_trunc)[cnt_added:]\n",
    "        \n",
    "        for cand_id in copy_ids_neg_trunc:\n",
    "            if cand_id in used_candidates:\n",
    "                continue\n",
    "\n",
    "            cand_groups = set(ids[cand_id].get('groups', []))\n",
    "\n",
    "            if current_groups.isdisjoint(cand_groups):\n",
    "                data['pair'].append(cand_id)\n",
    "                data['is_double'].append(0)\n",
    "                used_candidates.add(cand_id)\n",
    "                added += 1\n",
    "\n",
    "                if added >= remaining_to_add:\n",
    "                    cnt_added += added\n",
    "                    break\n",
    "\n",
    "    return cnt_added\n"
   ]
  },
  {
   "cell_type": "code",
   "execution_count": null,
   "id": "e9e742a3-36e3-4b1c-ae84-79bd87f80d1f",
   "metadata": {},
   "outputs": [],
   "source": [
    "cnt_added = augment_with_negatives_dynamic(ids_trunc, ids_1, ids_neg_trunc, n=6)"
   ]
  },
  {
   "cell_type": "code",
   "execution_count": null,
   "id": "4bf0d9d7-f977-4fda-8a27-96e23c4f636a",
   "metadata": {},
   "outputs": [],
   "source": [
    "print(f\"Из {len(ids_neg_trunc)} добавлено {cnt_added}\")"
   ]
  },
  {
   "cell_type": "code",
   "execution_count": null,
   "id": "e513501d-0d46-4b6d-ace5-03ee49aa4b08",
   "metadata": {},
   "outputs": [],
   "source": [
    "for yan_id, items in ids_trunc.items():\n",
    "    items.pop('groups')"
   ]
  },
  {
   "cell_type": "code",
   "execution_count": null,
   "id": "739d9810-e7b2-4bcc-97e0-336dc18d79ad",
   "metadata": {},
   "outputs": [],
   "source": [
    "import json\n",
    "with open('to_undergo.json', 'w') as f:\n",
    "    json.dump(ids_trunc, f)"
   ]
  }
 ],
 "metadata": {
  "kernelspec": {
   "display_name": "Avito",
   "language": "python",
   "name": "avito"
  },
  "language_info": {
   "codemirror_mode": {
    "name": "ipython",
    "version": 3
   },
   "file_extension": ".py",
   "mimetype": "text/x-python",
   "name": "python",
   "nbconvert_exporter": "python",
   "pygments_lexer": "ipython3",
   "version": "3.13.2"
  }
 },
 "nbformat": 4,
 "nbformat_minor": 5
}
